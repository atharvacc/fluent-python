{
 "cells": [
  {
   "cell_type": "code",
   "execution_count": 5,
   "id": "3de9e0c2",
   "metadata": {},
   "outputs": [],
   "source": [
    "def dump(**kwargs):\n",
    "    return kwargs"
   ]
  },
  {
   "cell_type": "code",
   "execution_count": 9,
   "id": "46df0583",
   "metadata": {},
   "outputs": [
    {
     "data": {
      "text/plain": [
       "{'x': 1}"
      ]
     },
     "execution_count": 9,
     "metadata": {},
     "output_type": "execute_result"
    }
   ],
   "source": [
    "dump(**{\"x\": 1})"
   ]
  },
  {
   "cell_type": "markdown",
   "id": "069395c5",
   "metadata": {},
   "source": [
    "## What is hashable\n",
    "- Needs __hash__ and __eq__\n",
    "- iterable is only hashable if every element within it is hashable. \n",
    "- frozen set by def is hashable since everything in it must be hashable\n",
    "- hash can be different across versions based on machine architecture and salt added for security\n",
    "- hash code of an object is guaranteed to be constant only within one Python process\n",
    "\n",
    "## Types of dict\n",
    "- OrderedDict: Dict in order\n",
    "- ChainMap: Multiple dicts in one\n",
    "- Counter: integer count fo reach key\n",
    "- Shelf: Persistent storage for a mapping of string keys \n",
    "\n",
    "## Subclassing UserDict instead of dict\n",
    "- better to create a new type with UserDict rather than Dict\n",
    "- main reason, dict has implementation shortcuts that force us to override methods we can inherit from UserDict\n",
    "\n",
    "## Immutable mappings\n",
    "- MappingProxyType: Gets a dynamic read-only dict. Can't make changes through it, but if original dict is updated it is reflect in it\n",
    "\n",
    "## Dictionary Views\n",
    "- A view object is a dynamic proxy\n"
   ]
  },
  {
   "cell_type": "code",
   "execution_count": null,
   "id": "be230c6a",
   "metadata": {},
   "outputs": [],
   "source": []
  }
 ],
 "metadata": {
  "kernelspec": {
   "display_name": "Python 3 (ipykernel)",
   "language": "python",
   "name": "python3"
  },
  "language_info": {
   "codemirror_mode": {
    "name": "ipython",
    "version": 3
   },
   "file_extension": ".py",
   "mimetype": "text/x-python",
   "name": "python",
   "nbconvert_exporter": "python",
   "pygments_lexer": "ipython3",
   "version": "3.10.9"
  }
 },
 "nbformat": 4,
 "nbformat_minor": 5
}
