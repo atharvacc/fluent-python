{
 "cells": [
  {
   "cell_type": "markdown",
   "id": "a9bc26a5",
   "metadata": {},
   "source": [
    "### Interfaces/protocols and ABCs\n",
    "#### 4 different ways of defining and using interfaces\n",
    "1. Duck-typing\n",
    "- Default approach since the beginning\n",
    "- Runtime checking for structural types\n",
    "\n",
    "2. Goose-typing\n",
    "- Supported by ABCs which relies on **runtime** checks of objects against ABCs.\n",
    "- run time check for nominal types\n",
    "\n",
    "3. Static-typing\n",
    "- traditional approach of statically-typed languages like C and Java; supported since Py3.5 by the typing module.\n",
    "- **enforced by external-type-checkers**\n",
    "- static checking for nominal types\n",
    "\n",
    "4. Static duck typing\n",
    "- Enforced by external-type checkers\n",
    "- static checking for structural types\n",
    "\n",
    "\n",
    "### Definition\n",
    "1. structural types\n",
    "types based on objects structure; methods provided by the object regardless of the name of its class or superclasses\n",
    "\n",
    "2. nominal types\n",
    "naming of the object's class or the name of it's superclasses"
   ]
  },
  {
   "cell_type": "markdown",
   "id": "25b07aaf",
   "metadata": {},
   "source": [
    "## Two Kinds of protocols\n",
    "1. Networking protocol\n",
    "2. An object protocol specifies methods which an object must provide to fulfill a role\n"
   ]
  },
  {
   "cell_type": "code",
   "execution_count": 2,
   "id": "e0f418e5",
   "metadata": {},
   "outputs": [],
   "source": [
    "class Vowels:\n",
    "    data = [x for x in \"AEIOU\"]\n",
    "    def __getitem__(self, i: int):\n",
    "        return self.data[i]"
   ]
  },
  {
   "cell_type": "code",
   "execution_count": 3,
   "id": "9a560578",
   "metadata": {},
   "outputs": [],
   "source": [
    "v = Vowels()"
   ]
  },
  {
   "cell_type": "code",
   "execution_count": 4,
   "id": "38a5d2b9",
   "metadata": {},
   "outputs": [
    {
     "name": "stdout",
     "output_type": "stream",
     "text": [
      "A\n",
      "E\n",
      "I\n",
      "O\n",
      "U\n"
     ]
    }
   ],
   "source": [
    "# This works since __getitem__ special method is really \n",
    "# the key to sequence protocol\n",
    "for c in v:\n",
    "    print(c)"
   ]
  },
  {
   "cell_type": "markdown",
   "id": "55c161ed",
   "metadata": {},
   "source": [
    "### 2 types of protocols\n",
    "1. Dynamic Protocol\n",
    "- the ifnromal protocols Python always had \n",
    "- They are implicit defined by convention and described in the documentation\n",
    "\n",
    "\n",
    "2. Static protocol\n",
    "- A protocl defined by Pep 544 (static duck-typing) .\n",
    "- a typing.Protocol sub-class\n",
    "\n",
    "There are 2 differencees between them\n",
    "1. An object may implement only part of a dynamic protocol and still be useful; but to fulfill a static protocol, the object must provide every method declared in the protocol class\n",
    "- static protocols can be verified by static type checkers but dynamic protocols can't\n",
    "\n",
    "## Programming Ducks\n",
    "- The philosophy of the Python Data Model is to cooperate wit h essential dynamic protocols as much as possible\n",
    "- when it comes to sequences, Python tries hard to work with even the \n",
    "simples forms of implementations\n",
    "\n",
    "## Monkey patching: implementing protocol at runtime\n"
   ]
  },
  {
   "cell_type": "code",
   "execution_count": 5,
   "id": "c19523ef",
   "metadata": {},
   "outputs": [],
   "source": [
    "def set_vowel(vowels, position, alphabet):\n",
    "    if position >= 5:\n",
    "        raise ValueError('max position is 5')\n",
    "    vowels.data[position] = alphabet\n",
    "    \n",
    "Vowels.__setitem__ = set_vowel"
   ]
  },
  {
   "cell_type": "code",
   "execution_count": 6,
   "id": "e4d2604e",
   "metadata": {},
   "outputs": [],
   "source": [
    "v[1] = 3"
   ]
  },
  {
   "cell_type": "markdown",
   "id": "35c0aee3",
   "metadata": {},
   "source": [
    "## Subclassing an ABC"
   ]
  },
  {
   "cell_type": "code",
   "execution_count": 8,
   "id": "f7e232ec",
   "metadata": {},
   "outputs": [],
   "source": [
    "from collections import namedtuple, abc"
   ]
  },
  {
   "cell_type": "code",
   "execution_count": 9,
   "id": "4a3e9cb3",
   "metadata": {},
   "outputs": [],
   "source": [
    "Card = namedtuple('Card', ['rank', 'suit'])"
   ]
  },
  {
   "cell_type": "code",
   "execution_count": 16,
   "id": "c84b093d",
   "metadata": {},
   "outputs": [],
   "source": [
    "class FrenchDeck2(abc.MutableSequence):\n",
    "    ranks = [str(n) for n in range(2,11)] + list('JQKA')\n",
    "    suits = 'spades diamonds clubs heart'.split()\n",
    "    \n",
    "    def __init__(self):\n",
    "        self._cards = [Card(rank, suit) for suit in self.suits for rank in self.ranks]\n",
    "    \n",
    "    def __len__(self):\n",
    "        return len(self._cards)\n",
    "    \n",
    "    def __getitem__(self, position):\n",
    "        return self._cards[position]\n",
    "    \n",
    "    def __setitem__(self, position, value):\n",
    "        self._cards[position] = value\n",
    "    \n",
    "    def __delitem__(self, position):\n",
    "        del self._cards[position]\n",
    "    \n",
    "    \n",
    "    \n",
    "    def insert(self, position, value):\n",
    "        self._cards.insert(position, value)"
   ]
  },
  {
   "cell_type": "code",
   "execution_count": 17,
   "id": "356d5096",
   "metadata": {},
   "outputs": [],
   "source": [
    "deck2 = FrenchDeck2()"
   ]
  },
  {
   "cell_type": "code",
   "execution_count": 19,
   "id": "71219f64",
   "metadata": {},
   "outputs": [
    {
     "data": {
      "text/plain": [
       "Card(rank='4', suit='spades')"
      ]
     },
     "execution_count": 19,
     "metadata": {},
     "output_type": "execute_result"
    }
   ],
   "source": [
    "deck2[2]"
   ]
  },
  {
   "cell_type": "markdown",
   "id": "6f16c7be",
   "metadata": {},
   "source": [
    "## Tombola ABC"
   ]
  },
  {
   "cell_type": "code",
   "execution_count": 24,
   "id": "4c510008",
   "metadata": {},
   "outputs": [],
   "source": [
    "import abc \n",
    "class Tombola(abc.ABC):\n",
    "    \n",
    "    @abc.abstractmethod\n",
    "    def load(self, iterable):\n",
    "        \"\"\"\n",
    "        Add items from an iterable\n",
    "        \"\"\"\n",
    "    \n",
    "    @abc.abstractmethod\n",
    "    def pick(self):\n",
    "        \"\"\"\n",
    "        Remove item at random and return\n",
    "        \n",
    "        Raises:\n",
    "            Lookup error when the instance is empty\n",
    "        \"\"\"\n",
    "    \n",
    "    def loaded(self):\n",
    "        \"\"\"\n",
    "        Return True if there is at least 1 item, 'False' otherwise\n",
    "        \"\"\"\n",
    "    \n",
    "    def inspect(self):\n",
    "        items = []\n",
    "        while True:\n",
    "            try:\n",
    "                items.append(self.pick())\n",
    "            except LookupError:\n",
    "                    break\n",
    "        self.load(items)\n",
    "        return tuple(items)"
   ]
  },
  {
   "cell_type": "markdown",
   "id": "7c8adb84",
   "metadata": {},
   "source": [
    "## Static protocols"
   ]
  },
  {
   "cell_type": "code",
   "execution_count": 26,
   "id": "311754fb",
   "metadata": {},
   "outputs": [],
   "source": [
    "from typing import TypeVar, Protocol"
   ]
  },
  {
   "cell_type": "code",
   "execution_count": 27,
   "id": "c98ace7a",
   "metadata": {},
   "outputs": [],
   "source": [
    "T = TypeVar('T')"
   ]
  },
  {
   "cell_type": "code",
   "execution_count": 29,
   "id": "f418a93d",
   "metadata": {},
   "outputs": [],
   "source": [
    "class Repeatable(Protocol):\n",
    "    def __mul__(self: T, repeat_count: int) -> T: ..."
   ]
  },
  {
   "cell_type": "code",
   "execution_count": 31,
   "id": "4b3607da",
   "metadata": {},
   "outputs": [],
   "source": [
    "RT  = TypeVar('RT', bound=Repeatable)"
   ]
  },
  {
   "cell_type": "code",
   "execution_count": 32,
   "id": "c25f5750",
   "metadata": {},
   "outputs": [],
   "source": [
    "def double(x: RT) -> RT:\n",
    "    return x*2"
   ]
  },
  {
   "cell_type": "markdown",
   "id": "12afb0dd",
   "metadata": {},
   "source": [
    "## Designing a static protocol"
   ]
  },
  {
   "cell_type": "code",
   "execution_count": 38,
   "id": "8bf11717",
   "metadata": {},
   "outputs": [],
   "source": [
    "from typing import Protocol, runtime_checkable, Any, TYPE_CHECKING, Iterable\n",
    "import random"
   ]
  },
  {
   "cell_type": "code",
   "execution_count": 39,
   "id": "835a0f26",
   "metadata": {},
   "outputs": [],
   "source": [
    "@runtime_checkable\n",
    "class RandomPicker(Protocol):\n",
    "    def pick(self) -> Any: ..."
   ]
  },
  {
   "cell_type": "code",
   "execution_count": 40,
   "id": "46116831",
   "metadata": {},
   "outputs": [],
   "source": [
    "class SimplePicker:\n",
    "    def __init__(self, items: Iterable) -> None:\n",
    "        self._items = list(items)\n",
    "        random.shuffle(self._items)\n",
    "    \n",
    "    def pick(self) -> Any:\n",
    "        return self._items.pop()\n"
   ]
  },
  {
   "cell_type": "code",
   "execution_count": 47,
   "id": "053e762e",
   "metadata": {},
   "outputs": [],
   "source": [
    "def test_isinstance() -> None:\n",
    "    popper: RandomPicker = SimplePicker([1])\n",
    "    assert isinstance(popper, RandomPicker)\n",
    "    \n",
    "def test_item_type() -> None:\n",
    "    items = [1, 2]\n",
    "    popper = SimplePicker(items) \n",
    "    item = popper.pick()\n",
    "    assert item in items\n",
    "    if TYPE_CHECKING:\n",
    "        reveal_type(item)\n",
    "    assert isinstance(item, int)"
   ]
  },
  {
   "cell_type": "code",
   "execution_count": 49,
   "id": "d1008055",
   "metadata": {},
   "outputs": [],
   "source": [
    "test_isinstance()"
   ]
  },
  {
   "cell_type": "code",
   "execution_count": 50,
   "id": "9b6952eb",
   "metadata": {},
   "outputs": [],
   "source": [
    "test_item_type()"
   ]
  },
  {
   "cell_type": "code",
   "execution_count": null,
   "id": "487a5b82",
   "metadata": {},
   "outputs": [],
   "source": []
  }
 ],
 "metadata": {
  "kernelspec": {
   "display_name": "Python 3 (ipykernel)",
   "language": "python",
   "name": "python3"
  },
  "language_info": {
   "codemirror_mode": {
    "name": "ipython",
    "version": 3
   },
   "file_extension": ".py",
   "mimetype": "text/x-python",
   "name": "python",
   "nbconvert_exporter": "python",
   "pygments_lexer": "ipython3",
   "version": "3.10.9"
  }
 },
 "nbformat": 4,
 "nbformat_minor": 5
}
