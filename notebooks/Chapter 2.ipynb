{
 "cells": [
  {
   "cell_type": "markdown",
   "id": "7c031a2e",
   "metadata": {},
   "source": [
    "#### Container Sequences. Ex: list, tuple, deque\n",
    "- references to objects it contains which may be of any type\n",
    "\n",
    "#### Flat sequences: Ex: str, bytes, array\n",
    "- hold the value in its own memory space\n",
    "\n",
    "\n",
    "\n",
    "- Flat sequences are more compact, but they are limited to holding primitive machine values like bytes, integers and floats"
   ]
  },
  {
   "cell_type": "code",
   "execution_count": 6,
   "id": "259faf6c",
   "metadata": {},
   "outputs": [],
   "source": [
    "color = ['b', 'w']\n",
    "sizes = ['s', 'm', 'l']\n",
    "\n",
    "tshirts = [(c, s) for c in color\n",
    "           for s in sizes]"
   ]
  },
  {
   "cell_type": "code",
   "execution_count": 7,
   "id": "0eb27598",
   "metadata": {},
   "outputs": [
    {
     "data": {
      "text/plain": [
       "[('b', 's'), ('b', 'm'), ('b', 'l'), ('w', 's'), ('w', 'm'), ('w', 'l')]"
      ]
     },
     "execution_count": 7,
     "metadata": {},
     "output_type": "execute_result"
    }
   ],
   "source": [
    "tshirts"
   ]
  },
  {
   "cell_type": "markdown",
   "id": "fdbe9262",
   "metadata": {},
   "source": [
    "### Generator Expressions"
   ]
  },
  {
   "cell_type": "code",
   "execution_count": 9,
   "id": "9f4cb291",
   "metadata": {},
   "outputs": [],
   "source": [
    "a = (1,2)"
   ]
  },
  {
   "cell_type": "code",
   "execution_count": 12,
   "id": "962f4510",
   "metadata": {},
   "outputs": [
    {
     "ename": "AttributeError",
     "evalue": "'tuple' object has no attribute 'add'",
     "output_type": "error",
     "traceback": [
      "\u001b[0;31m---------------------------------------------------------------------------\u001b[0m",
      "\u001b[0;31mAttributeError\u001b[0m                            Traceback (most recent call last)",
      "Cell \u001b[0;32mIn[12], line 1\u001b[0m\n\u001b[0;32m----> 1\u001b[0m \u001b[43ma\u001b[49m\u001b[38;5;241;43m.\u001b[39;49m\u001b[43madd\u001b[49m(\u001b[38;5;241m3\u001b[39m)\n",
      "\u001b[0;31mAttributeError\u001b[0m: 'tuple' object has no attribute 'add'"
     ]
    }
   ],
   "source": []
  },
  {
   "cell_type": "code",
   "execution_count": null,
   "id": "4ed9d764",
   "metadata": {},
   "outputs": [],
   "source": []
  }
 ],
 "metadata": {
  "kernelspec": {
   "display_name": "Python 3 (ipykernel)",
   "language": "python",
   "name": "python3"
  },
  "language_info": {
   "codemirror_mode": {
    "name": "ipython",
    "version": 3
   },
   "file_extension": ".py",
   "mimetype": "text/x-python",
   "name": "python",
   "nbconvert_exporter": "python",
   "pygments_lexer": "ipython3",
   "version": "3.10.9"
  }
 },
 "nbformat": 4,
 "nbformat_minor": 5
}
